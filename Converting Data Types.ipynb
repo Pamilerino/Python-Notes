{
 "cells": [
  {
   "cell_type": "markdown",
   "id": "4224c263-d1ec-4b75-9eb3-65c6c3dcff96",
   "metadata": {},
   "source": [
    "# Converting Data Types"
   ]
  },
  {
   "cell_type": "code",
   "execution_count": 43,
   "id": "d6bc1d5d-2a22-4536-95a9-17ac94b0afd9",
   "metadata": {},
   "outputs": [
    {
     "data": {
      "text/plain": [
       "int"
      ]
     },
     "execution_count": 43,
     "metadata": {},
     "output_type": "execute_result"
    }
   ],
   "source": [
    "num_int =  7\n",
    "type (num_int)"
   ]
  },
  {
   "cell_type": "code",
   "execution_count": 7,
   "id": "1f0a4721-6f71-40a6-9420-8eb59d326c95",
   "metadata": {},
   "outputs": [
    {
     "data": {
      "text/plain": [
       "str"
      ]
     },
     "execution_count": 7,
     "metadata": {},
     "output_type": "execute_result"
    }
   ],
   "source": [
    "num_str = '7'\n",
    "type (num_str)"
   ]
  },
  {
   "cell_type": "code",
   "execution_count": 10,
   "id": "4c4445c0-944f-4be1-beec-be97377338b4",
   "metadata": {},
   "outputs": [
    {
     "data": {
      "text/plain": [
       "int"
      ]
     },
     "execution_count": 10,
     "metadata": {},
     "output_type": "execute_result"
    }
   ],
   "source": [
    "nun_str_conv = int(num_str)\n",
    "type(nun_str_conv)"
   ]
  },
  {
   "cell_type": "code",
   "execution_count": 12,
   "id": "6aba2745-d6c8-4033-96bc-e855d14750a8",
   "metadata": {},
   "outputs": [
    {
     "name": "stdout",
     "output_type": "stream",
     "text": [
      "14\n"
     ]
    }
   ],
   "source": [
    "num_sum = num_int + nun_str_conv\n",
    "print(num_sum)"
   ]
  },
  {
   "cell_type": "code",
   "execution_count": 14,
   "id": "2cde660a-ad49-4c00-9bf3-858325bc8a7f",
   "metadata": {},
   "outputs": [
    {
     "data": {
      "text/plain": [
       "int"
      ]
     },
     "execution_count": 14,
     "metadata": {},
     "output_type": "execute_result"
    }
   ],
   "source": [
    "type(num_sum)"
   ]
  },
  {
   "cell_type": "code",
   "execution_count": null,
   "id": "93925cde-f67b-4c54-a976-89035ab9cc09",
   "metadata": {},
   "outputs": [],
   "source": []
  },
  {
   "cell_type": "code",
   "execution_count": 18,
   "id": "70a58f70-9aeb-4210-8139-ed74bf8f8f94",
   "metadata": {},
   "outputs": [
    {
     "data": {
      "text/plain": [
       "list"
      ]
     },
     "execution_count": 18,
     "metadata": {},
     "output_type": "execute_result"
    }
   ],
   "source": [
    "list_type = [1,2,3]\n",
    "type(list_type)"
   ]
  },
  {
   "cell_type": "code",
   "execution_count": 20,
   "id": "78d07ceb-e1f4-41eb-bc53-463439e65006",
   "metadata": {},
   "outputs": [
    {
     "data": {
      "text/plain": [
       "(1, 2, 3)"
      ]
     },
     "execution_count": 20,
     "metadata": {},
     "output_type": "execute_result"
    }
   ],
   "source": [
    "tuple(list_type)"
   ]
  },
  {
   "cell_type": "code",
   "execution_count": 22,
   "id": "8cbb6751-b57d-44de-bbcb-14872ff38954",
   "metadata": {},
   "outputs": [
    {
     "data": {
      "text/plain": [
       "tuple"
      ]
     },
     "execution_count": 22,
     "metadata": {},
     "output_type": "execute_result"
    }
   ],
   "source": [
    "type(tuple(list_type))"
   ]
  },
  {
   "cell_type": "code",
   "execution_count": 2,
   "id": "7b755f74-9de2-4036-a550-297f0ffe4832",
   "metadata": {},
   "outputs": [],
   "source": [
    "list_type = [1,2,3,3,2,1,2,3,2,1]"
   ]
  },
  {
   "cell_type": "code",
   "execution_count": 4,
   "id": "8a755e49-47d1-4358-a917-a5f994f05c8e",
   "metadata": {},
   "outputs": [
    {
     "data": {
      "text/plain": [
       "{1, 2, 3}"
      ]
     },
     "execution_count": 4,
     "metadata": {},
     "output_type": "execute_result"
    }
   ],
   "source": [
    "set(list_type)"
   ]
  },
  {
   "cell_type": "code",
   "execution_count": 6,
   "id": "e863a2b9-fc81-4bc9-9c29-ce2eb44b3d8a",
   "metadata": {},
   "outputs": [
    {
     "data": {
      "text/plain": [
       "set"
      ]
     },
     "execution_count": 6,
     "metadata": {},
     "output_type": "execute_result"
    }
   ],
   "source": [
    "type(set(list_type))"
   ]
  },
  {
   "cell_type": "code",
   "execution_count": null,
   "id": "e3c97665-debd-4171-80cb-e3de224a8941",
   "metadata": {},
   "outputs": [],
   "source": []
  },
  {
   "cell_type": "code",
   "execution_count": null,
   "id": "fbf8f663-40ad-4988-913b-b6bc94ab9e45",
   "metadata": {},
   "outputs": [],
   "source": []
  },
  {
   "cell_type": "markdown",
   "id": "d7802203-915d-4e59-839f-8f1fe324ba68",
   "metadata": {},
   "source": [
    "# Dictionary"
   ]
  },
  {
   "cell_type": "code",
   "execution_count": 23,
   "id": "7a68b2b7-f384-47e0-953a-b49a668c5a50",
   "metadata": {},
   "outputs": [
    {
     "data": {
      "text/plain": [
       "dict"
      ]
     },
     "execution_count": 23,
     "metadata": {},
     "output_type": "execute_result"
    }
   ],
   "source": [
    "dict_type = {'name':'Michael','age':28,'facial hair':'yes'}\n",
    "type(dict_type)"
   ]
  },
  {
   "cell_type": "code",
   "execution_count": 27,
   "id": "a7a2067b-3d93-4bb3-a6f9-f3be1d7611d9",
   "metadata": {},
   "outputs": [
    {
     "data": {
      "text/plain": [
       "dict_items([('name', 'Michael'), ('age', 28), ('facial hair', 'yes')])"
      ]
     },
     "execution_count": 27,
     "metadata": {},
     "output_type": "execute_result"
    }
   ],
   "source": [
    "dict_type.items()"
   ]
  },
  {
   "cell_type": "code",
   "execution_count": 29,
   "id": "e50617c9-723d-4066-a3d0-5908c7094b2c",
   "metadata": {},
   "outputs": [
    {
     "data": {
      "text/plain": [
       "dict_values(['Michael', 28, 'yes'])"
      ]
     },
     "execution_count": 29,
     "metadata": {},
     "output_type": "execute_result"
    }
   ],
   "source": [
    "dict_type.values()"
   ]
  },
  {
   "cell_type": "code",
   "execution_count": 31,
   "id": "7f23261a-20bc-427d-8e6e-9f918b92190b",
   "metadata": {},
   "outputs": [
    {
     "data": {
      "text/plain": [
       "dict_keys(['name', 'age', 'facial hair'])"
      ]
     },
     "execution_count": 31,
     "metadata": {},
     "output_type": "execute_result"
    }
   ],
   "source": [
    "dict_type.keys()"
   ]
  },
  {
   "cell_type": "code",
   "execution_count": 33,
   "id": "ba262fd0-a915-4b76-b782-6599584dad2b",
   "metadata": {},
   "outputs": [
    {
     "data": {
      "text/plain": [
       "['name', 'age', 'facial hair']"
      ]
     },
     "execution_count": 33,
     "metadata": {},
     "output_type": "execute_result"
    }
   ],
   "source": [
    "list(dict_type.keys())"
   ]
  },
  {
   "cell_type": "code",
   "execution_count": 35,
   "id": "f4591452-7bd4-4945-a08d-26346ee10475",
   "metadata": {},
   "outputs": [
    {
     "data": {
      "text/plain": [
       "list"
      ]
     },
     "execution_count": 35,
     "metadata": {},
     "output_type": "execute_result"
    }
   ],
   "source": [
    "type(list(dict_type.keys()))"
   ]
  },
  {
   "cell_type": "code",
   "execution_count": 37,
   "id": "1bacbbd2-5d03-4fc8-9990-4d70f0aeabd9",
   "metadata": {},
   "outputs": [
    {
     "data": {
      "text/plain": [
       "list"
      ]
     },
     "execution_count": 37,
     "metadata": {},
     "output_type": "execute_result"
    }
   ],
   "source": [
    "type(list(dict_type.values()))"
   ]
  },
  {
   "cell_type": "code",
   "execution_count": null,
   "id": "339f9024-8932-4687-9159-73c21891d0f5",
   "metadata": {},
   "outputs": [],
   "source": []
  },
  {
   "cell_type": "code",
   "execution_count": 39,
   "id": "0dbea86e-8b18-4674-927c-d4c0eb8c12ee",
   "metadata": {},
   "outputs": [
    {
     "data": {
      "text/plain": [
       "['I',\n",
       " ' ',\n",
       " 's',\n",
       " 't',\n",
       " 'a',\n",
       " 'y',\n",
       " ' ',\n",
       " 'w',\n",
       " 'i',\n",
       " 'n',\n",
       " 'n',\n",
       " 'i',\n",
       " 'n',\n",
       " 'g',\n",
       " ' ',\n",
       " 'a',\n",
       " 'l',\n",
       " 'w',\n",
       " 'a',\n",
       " 'y',\n",
       " 's']"
      ]
     },
     "execution_count": 39,
     "metadata": {},
     "output_type": "execute_result"
    }
   ],
   "source": [
    "long_str  = \"I stay winning always\"\n",
    "list (long_str)"
   ]
  },
  {
   "cell_type": "code",
   "execution_count": 41,
   "id": "7c6e994a-7cae-4d3f-827e-c2260dc54c27",
   "metadata": {},
   "outputs": [
    {
     "data": {
      "text/plain": [
       "{' ', 'I', 'a', 'g', 'i', 'l', 'n', 's', 't', 'w', 'y'}"
      ]
     },
     "execution_count": 41,
     "metadata": {},
     "output_type": "execute_result"
    }
   ],
   "source": [
    "long_str  = \"I stay winning always\"\n",
    "set (long_str)"
   ]
  },
  {
   "cell_type": "code",
   "execution_count": null,
   "id": "e83bf0b6-8177-404b-b2f7-b0135a1032c3",
   "metadata": {},
   "outputs": [],
   "source": []
  },
  {
   "cell_type": "code",
   "execution_count": null,
   "id": "d641ac61-1f74-4564-9ebe-7863ac4fadc2",
   "metadata": {},
   "outputs": [],
   "source": []
  }
 ],
 "metadata": {
  "kernelspec": {
   "display_name": "Python 3 (ipykernel)",
   "language": "python",
   "name": "python3"
  },
  "language_info": {
   "codemirror_mode": {
    "name": "ipython",
    "version": 3
   },
   "file_extension": ".py",
   "mimetype": "text/x-python",
   "name": "python",
   "nbconvert_exporter": "python",
   "pygments_lexer": "ipython3",
   "version": "3.12.4"
  }
 },
 "nbformat": 4,
 "nbformat_minor": 5
}
