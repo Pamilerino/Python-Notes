{
 "cells": [
  {
   "cell_type": "markdown",
   "id": "5cdd6da2-62e2-48fd-9083-ef5b68590d41",
   "metadata": {},
   "source": [
    "# Data types In Python"
   ]
  },
  {
   "cell_type": "code",
   "execution_count": null,
   "id": "ea8bf76e-03b4-4359-bb96-83a98ad5bae7",
   "metadata": {},
   "outputs": [],
   "source": [
    "Numeric , Sequence Type , Set, Boolean, Dictionary."
   ]
  },
  {
   "cell_type": "code",
   "execution_count": null,
   "id": "7e8a2161-ac5e-4684-9b8d-4c2b1fe77278",
   "metadata": {},
   "outputs": [],
   "source": [
    "Numeric (Integers,Float,Complex Numbers)"
   ]
  },
  {
   "cell_type": "code",
   "execution_count": 10,
   "id": "ab23dd6a-4116-41fe-af11-789c5ff26460",
   "metadata": {},
   "outputs": [
    {
     "data": {
      "text/plain": [
       "int"
      ]
     },
     "execution_count": 10,
     "metadata": {},
     "output_type": "execute_result"
    }
   ],
   "source": [
    "type(-13 +10)"
   ]
  },
  {
   "cell_type": "code",
   "execution_count": 12,
   "id": "877a6ca7-6521-4f14-a101-f03a7a89e80d",
   "metadata": {},
   "outputs": [
    {
     "data": {
      "text/plain": [
       "float"
      ]
     },
     "execution_count": 12,
     "metadata": {},
     "output_type": "execute_result"
    }
   ],
   "source": [
    "type(-13 +10.25)"
   ]
  },
  {
   "cell_type": "code",
   "execution_count": 14,
   "id": "87620f71-54c5-400e-9078-f1e865d40a7d",
   "metadata": {},
   "outputs": [
    {
     "data": {
      "text/plain": [
       "complex"
      ]
     },
     "execution_count": 14,
     "metadata": {},
     "output_type": "execute_result"
    }
   ],
   "source": [
    "type(-13 +10j)"
   ]
  },
  {
   "cell_type": "code",
   "execution_count": null,
   "id": "9fdecd32-b1aa-48ec-85ee-42cde6559332",
   "metadata": {},
   "outputs": [],
   "source": []
  },
  {
   "cell_type": "code",
   "execution_count": 22,
   "id": "98edaf62-f4c8-4982-b201-fe08f7b2bbe1",
   "metadata": {},
   "outputs": [
    {
     "data": {
      "text/plain": [
       "bool"
      ]
     },
     "execution_count": 22,
     "metadata": {},
     "output_type": "execute_result"
    }
   ],
   "source": [
    "#Boolean\n",
    "type(False)"
   ]
  },
  {
   "cell_type": "code",
   "execution_count": 24,
   "id": "b05de454-1f7b-4af6-a17b-f145ef7d5a3e",
   "metadata": {},
   "outputs": [
    {
     "data": {
      "text/plain": [
       "bool"
      ]
     },
     "execution_count": 24,
     "metadata": {},
     "output_type": "execute_result"
    }
   ],
   "source": [
    "#Boolean\n",
    "type(True)"
   ]
  },
  {
   "cell_type": "code",
   "execution_count": 26,
   "id": "e84ca99b-14f5-4020-a744-a7867d7b6017",
   "metadata": {},
   "outputs": [
    {
     "data": {
      "text/plain": [
       "bool"
      ]
     },
     "execution_count": 26,
     "metadata": {},
     "output_type": "execute_result"
    }
   ],
   "source": [
    "#Boolean\n",
    "type(1>5)"
   ]
  },
  {
   "cell_type": "code",
   "execution_count": 28,
   "id": "2060349a-618e-418d-8ba4-1386dfd792c6",
   "metadata": {},
   "outputs": [
    {
     "data": {
      "text/plain": [
       "False"
      ]
     },
     "execution_count": 28,
     "metadata": {},
     "output_type": "execute_result"
    }
   ],
   "source": [
    "(1>5)"
   ]
  },
  {
   "cell_type": "code",
   "execution_count": null,
   "id": "d7165d28-64c4-4c46-ab54-cc1d6f780778",
   "metadata": {},
   "outputs": [],
   "source": []
  },
  {
   "cell_type": "code",
   "execution_count": null,
   "id": "1eed1bc0-01f1-4ad8-89cc-8971d7bab012",
   "metadata": {},
   "outputs": [],
   "source": [
    "Sequence Type (Strings , List , Tuple)"
   ]
  },
  {
   "cell_type": "code",
   "execution_count": null,
   "id": "39b7c2c0-a357-4d33-9b14-d5910d3ca4ab",
   "metadata": {},
   "outputs": [],
   "source": [
    "# Strings "
   ]
  },
  {
   "cell_type": "code",
   "execution_count": 32,
   "id": "2ddba38d-365a-4976-8895-7b5553d56b5a",
   "metadata": {},
   "outputs": [
    {
     "data": {
      "text/plain": [
       "'Single Quote'"
      ]
     },
     "execution_count": 32,
     "metadata": {},
     "output_type": "execute_result"
    }
   ],
   "source": [
    "'Single Quote'"
   ]
  },
  {
   "cell_type": "code",
   "execution_count": 34,
   "id": "9758650d-0a8e-4f47-b934-3e56b44161f9",
   "metadata": {},
   "outputs": [
    {
     "data": {
      "text/plain": [
       "'Double Quote'"
      ]
     },
     "execution_count": 34,
     "metadata": {},
     "output_type": "execute_result"
    }
   ],
   "source": [
    "\"Double Quote\""
   ]
  },
  {
   "cell_type": "code",
   "execution_count": 42,
   "id": "e868439b-ea25-465d-974c-e1b2cd061f22",
   "metadata": {},
   "outputs": [],
   "source": [
    "multiline = \"\"\"\n",
    "Good things coming my way,\n",
    "On this faith \n",
    "i manifest strongly.\n",
    "Goodness,Mercy and Favour are mine,\n",
    "In jesus name ,i Pray.\n",
    "Amen.\n",
    "\"\"\""
   ]
  },
  {
   "cell_type": "code",
   "execution_count": 44,
   "id": "f60cefb0-aef9-43f7-8ec1-064d6332e687",
   "metadata": {},
   "outputs": [
    {
     "name": "stdout",
     "output_type": "stream",
     "text": [
      "\n",
      "Good things coming my way,\n",
      "On this faith \n",
      "i manifest strongly.\n",
      "Goodness,Mercy and Favour are mine,\n",
      "In jesus name ,i Pray.\n",
      "Amen.\n",
      "\n"
     ]
    }
   ],
   "source": [
    "print(multiline)"
   ]
  },
  {
   "cell_type": "code",
   "execution_count": 47,
   "id": "5db896a4-dd91-42ae-be85-2f52b1b63daa",
   "metadata": {},
   "outputs": [
    {
     "data": {
      "text/plain": [
       "str"
      ]
     },
     "execution_count": 47,
     "metadata": {},
     "output_type": "execute_result"
    }
   ],
   "source": [
    "type (multiline)"
   ]
  },
  {
   "cell_type": "code",
   "execution_count": null,
   "id": "48358ade-e148-42aa-9ff4-7d2bb4e3cbe5",
   "metadata": {},
   "outputs": [],
   "source": [
    "index "
   ]
  },
  {
   "cell_type": "code",
   "execution_count": 56,
   "id": "3d9577b5-a35b-42a5-8ddb-c2a0d6d6f8ee",
   "metadata": {},
   "outputs": [],
   "source": [
    "a ='I stay winning'"
   ]
  },
  {
   "cell_type": "code",
   "execution_count": 62,
   "id": "a1e76b78-077f-43d2-9d27-a0127af97c6f",
   "metadata": {},
   "outputs": [
    {
     "name": "stdout",
     "output_type": "stream",
     "text": [
      "I stay\n"
     ]
    }
   ],
   "source": [
    "print(a[:6])"
   ]
  },
  {
   "cell_type": "code",
   "execution_count": 66,
   "id": "5a9a6c3e-ce8d-48ea-a187-fb7997856ec3",
   "metadata": {},
   "outputs": [
    {
     "name": "stdout",
     "output_type": "stream",
     "text": [
      "w\n"
     ]
    }
   ],
   "source": [
    "print(a[7])"
   ]
  },
  {
   "cell_type": "code",
   "execution_count": 70,
   "id": "a94122e8-8fc3-4176-a707-aa70636d7a7a",
   "metadata": {},
   "outputs": [
    {
     "name": "stdout",
     "output_type": "stream",
     "text": [
      "i\n"
     ]
    }
   ],
   "source": [
    "print(a[-6])"
   ]
  },
  {
   "cell_type": "code",
   "execution_count": 74,
   "id": "ee0ae39d-08fa-41ef-8d53-02dafee1ec9b",
   "metadata": {},
   "outputs": [
    {
     "name": "stdout",
     "output_type": "stream",
     "text": [
      "sta\n"
     ]
    }
   ],
   "source": [
    "print(a[2:5])"
   ]
  },
  {
   "cell_type": "code",
   "execution_count": 76,
   "id": "2a38b52f-f44e-4465-9df3-7f9163b6ef81",
   "metadata": {},
   "outputs": [
    {
     "data": {
      "text/plain": [
       "'I stay winningI stay winningI stay winning'"
      ]
     },
     "execution_count": 76,
     "metadata": {},
     "output_type": "execute_result"
    }
   ],
   "source": [
    "a*3"
   ]
  },
  {
   "cell_type": "code",
   "execution_count": 86,
   "id": "e4d5a719-2bb3-471d-a170-70f933eee32a",
   "metadata": {},
   "outputs": [
    {
     "data": {
      "text/plain": [
       "'I stay winningI stay winning'"
      ]
     },
     "execution_count": 86,
     "metadata": {},
     "output_type": "execute_result"
    }
   ],
   "source": [
    "a + a"
   ]
  },
  {
   "cell_type": "code",
   "execution_count": null,
   "id": "15924a7a-28b2-4574-89fc-dbb11ef531b9",
   "metadata": {},
   "outputs": [],
   "source": []
  },
  {
   "cell_type": "code",
   "execution_count": 88,
   "id": "9dcf4c5d-a039-4197-b53a-962dbf547516",
   "metadata": {},
   "outputs": [
    {
     "data": {
      "text/plain": [
       "[1, 2, 3]"
      ]
     },
     "execution_count": 88,
     "metadata": {},
     "output_type": "execute_result"
    }
   ],
   "source": [
    "#list\n",
    "[1,2,3]"
   ]
  },
  {
   "cell_type": "code",
   "execution_count": 96,
   "id": "e2f4cf4c-423d-4d35-afa1-a09acd60b64d",
   "metadata": {},
   "outputs": [
    {
     "data": {
      "text/plain": [
       "['Ever', 'Reliable', 'God']"
      ]
     },
     "execution_count": 96,
     "metadata": {},
     "output_type": "execute_result"
    }
   ],
   "source": [
    "['Ever','Reliable','God']"
   ]
  },
  {
   "cell_type": "code",
   "execution_count": 104,
   "id": "a888a6d0-622e-4801-b6f4-3dc091a5840e",
   "metadata": {},
   "outputs": [
    {
     "data": {
      "text/plain": [
       "['Faithful', 3, ['Yaweh', 'Elshadai'], True]"
      ]
     },
     "execution_count": 104,
     "metadata": {},
     "output_type": "execute_result"
    }
   ],
   "source": [
    "['Faithful',3,['Yaweh','Elshadai'],True]"
   ]
  },
  {
   "cell_type": "code",
   "execution_count": 108,
   "id": "41ba4067-2cda-4b1a-86b4-65037d7899a8",
   "metadata": {},
   "outputs": [
    {
     "data": {
      "text/plain": [
       "['Ever', 'Reliable', 'God', 'Elshadai']"
      ]
     },
     "execution_count": 108,
     "metadata": {},
     "output_type": "execute_result"
    }
   ],
   "source": [
    "Yaweh = ['Ever','Reliable','God']\n",
    "Yaweh.append('Elshadai')\n",
    "Yaweh"
   ]
  },
  {
   "cell_type": "code",
   "execution_count": 110,
   "id": "4e39c748-61b1-45cf-9680-5f169557cec7",
   "metadata": {},
   "outputs": [
    {
     "data": {
      "text/plain": [
       "['Ever', 'Reliable', 'God', 'Elshadai']"
      ]
     },
     "execution_count": 110,
     "metadata": {},
     "output_type": "execute_result"
    }
   ],
   "source": [
    "Yaweh"
   ]
  },
  {
   "cell_type": "code",
   "execution_count": 112,
   "id": "0efc31c7-18c3-4235-9ef8-e4dbac73c173",
   "metadata": {},
   "outputs": [
    {
     "ename": "NameError",
     "evalue": "name 'yaweh' is not defined",
     "output_type": "error",
     "traceback": [
      "\u001b[1;31m---------------------------------------------------------------------------\u001b[0m",
      "\u001b[1;31mNameError\u001b[0m                                 Traceback (most recent call last)",
      "Cell \u001b[1;32mIn[112], line 1\u001b[0m\n\u001b[1;32m----> 1\u001b[0m yaweh\n",
      "\u001b[1;31mNameError\u001b[0m: name 'yaweh' is not defined"
     ]
    }
   ],
   "source": [
    "yaweh"
   ]
  },
  {
   "cell_type": "code",
   "execution_count": 114,
   "id": "679ad220-dcc1-47a3-8cee-4b9872f1a5bf",
   "metadata": {},
   "outputs": [],
   "source": [
    "Yaweh[0] = 'Ebenezer'"
   ]
  },
  {
   "cell_type": "code",
   "execution_count": 116,
   "id": "d4c5ae5a-c202-441e-9175-ace52344c8b3",
   "metadata": {},
   "outputs": [
    {
     "data": {
      "text/plain": [
       "['Ebenezer', 'Reliable', 'God', 'Elshadai']"
      ]
     },
     "execution_count": 116,
     "metadata": {},
     "output_type": "execute_result"
    }
   ],
   "source": [
    "Yaweh"
   ]
  },
  {
   "cell_type": "code",
   "execution_count": 118,
   "id": "437c628c-8088-4c4b-be16-778263555bae",
   "metadata": {},
   "outputs": [],
   "source": [
    "nest_list = ['Faithful',3,['Yaweh','Elshadai'],True]"
   ]
  },
  {
   "cell_type": "code",
   "execution_count": 120,
   "id": "e3ddac02-6edd-4156-b7b5-d4d7a9a9c64c",
   "metadata": {},
   "outputs": [
    {
     "data": {
      "text/plain": [
       "'Faithful'"
      ]
     },
     "execution_count": 120,
     "metadata": {},
     "output_type": "execute_result"
    }
   ],
   "source": [
    "nest_list [0]"
   ]
  },
  {
   "cell_type": "code",
   "execution_count": 124,
   "id": "b609d529-3d69-451b-ae0b-ab22a234d9b2",
   "metadata": {},
   "outputs": [
    {
     "data": {
      "text/plain": [
       "['Yaweh', 'Elshadai']"
      ]
     },
     "execution_count": 124,
     "metadata": {},
     "output_type": "execute_result"
    }
   ],
   "source": [
    "nest_list [2]"
   ]
  },
  {
   "cell_type": "code",
   "execution_count": 126,
   "id": "02f5adf0-6c3d-4ef2-be51-3ae161d45a8b",
   "metadata": {},
   "outputs": [
    {
     "data": {
      "text/plain": [
       "'Elshadai'"
      ]
     },
     "execution_count": 126,
     "metadata": {},
     "output_type": "execute_result"
    }
   ],
   "source": [
    "nest_list [2][1]"
   ]
  },
  {
   "cell_type": "code",
   "execution_count": null,
   "id": "33531301-e0cb-4c92-8277-acec6d3300c2",
   "metadata": {},
   "outputs": [],
   "source": []
  },
  {
   "cell_type": "code",
   "execution_count": 140,
   "id": "c0c87d2a-577d-420a-8164-2d31996b666f",
   "metadata": {},
   "outputs": [],
   "source": [
    "#tuple\n",
    "tuple_scoops = (1,2,3,2,1)"
   ]
  },
  {
   "cell_type": "code",
   "execution_count": 142,
   "id": "ed26b84c-6958-4e22-a2b6-44b259a14954",
   "metadata": {},
   "outputs": [
    {
     "data": {
      "text/plain": [
       "tuple"
      ]
     },
     "execution_count": 142,
     "metadata": {},
     "output_type": "execute_result"
    }
   ],
   "source": [
    "type(tuple_scoops)"
   ]
  },
  {
   "cell_type": "code",
   "execution_count": 150,
   "id": "7ae02bb1-4aaa-46a4-829b-697a868f1500",
   "metadata": {},
   "outputs": [
    {
     "ename": "TypeError",
     "evalue": "'tuple' object is not callable",
     "output_type": "error",
     "traceback": [
      "\u001b[1;31m---------------------------------------------------------------------------\u001b[0m",
      "\u001b[1;31mTypeError\u001b[0m                                 Traceback (most recent call last)",
      "Cell \u001b[1;32mIn[150], line 1\u001b[0m\n\u001b[1;32m----> 1\u001b[0m tuple_scoops(\u001b[38;5;241m0\u001b[39m)\n",
      "\u001b[1;31mTypeError\u001b[0m: 'tuple' object is not callable"
     ]
    }
   ],
   "source": [
    "tuple_scoops(0)"
   ]
  },
  {
   "cell_type": "code",
   "execution_count": 152,
   "id": "27ebe66c-e762-4197-b534-f871fa7c237e",
   "metadata": {},
   "outputs": [
    {
     "data": {
      "text/plain": [
       "1"
      ]
     },
     "execution_count": 152,
     "metadata": {},
     "output_type": "execute_result"
    }
   ],
   "source": [
    "tuple_scoops[0]"
   ]
  },
  {
   "cell_type": "code",
   "execution_count": 154,
   "id": "d803a36b-99ef-4a96-b7a1-e497ad034595",
   "metadata": {},
   "outputs": [
    {
     "data": {
      "text/plain": [
       "2"
      ]
     },
     "execution_count": 154,
     "metadata": {},
     "output_type": "execute_result"
    }
   ],
   "source": [
    "tuple_scoops[3]"
   ]
  },
  {
   "cell_type": "code",
   "execution_count": 156,
   "id": "1b8a318f-8143-40c3-bb1b-64eb638e2ff8",
   "metadata": {},
   "outputs": [
    {
     "ename": "AttributeError",
     "evalue": "'tuple' object has no attribute 'append'",
     "output_type": "error",
     "traceback": [
      "\u001b[1;31m---------------------------------------------------------------------------\u001b[0m",
      "\u001b[1;31mAttributeError\u001b[0m                            Traceback (most recent call last)",
      "Cell \u001b[1;32mIn[156], line 1\u001b[0m\n\u001b[1;32m----> 1\u001b[0m tuple_scoops\u001b[38;5;241m.\u001b[39mappend\n",
      "\u001b[1;31mAttributeError\u001b[0m: 'tuple' object has no attribute 'append'"
     ]
    }
   ],
   "source": [
    "tuple_scoops.append"
   ]
  },
  {
   "cell_type": "code",
   "execution_count": null,
   "id": "6846a243-ab28-429a-b131-d20b824d5c1a",
   "metadata": {},
   "outputs": [],
   "source": []
  },
  {
   "cell_type": "code",
   "execution_count": 158,
   "id": "2f9c03e4-0270-46b6-9005-6d01b848023b",
   "metadata": {},
   "outputs": [],
   "source": [
    "#Set\n",
    "\n",
    "daily_pints = {1,2,3}"
   ]
  },
  {
   "cell_type": "code",
   "execution_count": 162,
   "id": "bc8407b3-bfde-4936-a569-a08e7d1a5809",
   "metadata": {},
   "outputs": [
    {
     "data": {
      "text/plain": [
       "set"
      ]
     },
     "execution_count": 162,
     "metadata": {},
     "output_type": "execute_result"
    }
   ],
   "source": [
    "type(daily_pints)"
   ]
  },
  {
   "cell_type": "code",
   "execution_count": 164,
   "id": "8f1c8911-fc2a-4ebc-8174-a54271b653a2",
   "metadata": {},
   "outputs": [
    {
     "name": "stdout",
     "output_type": "stream",
     "text": [
      "{1, 2, 3}\n"
     ]
    }
   ],
   "source": [
    "print(daily_pints)"
   ]
  },
  {
   "cell_type": "code",
   "execution_count": 166,
   "id": "c0990242-49cb-476f-8fed-2151efd0c25c",
   "metadata": {},
   "outputs": [
    {
     "name": "stdout",
     "output_type": "stream",
     "text": [
      "{1, 2, 3, 4, 33, 44}\n"
     ]
    }
   ],
   "source": [
    "daily_pints_log = {1,2,33,4,44,3,2,1}\n",
    "print(daily_pints_log)"
   ]
  },
  {
   "cell_type": "code",
   "execution_count": 168,
   "id": "74a0a9dd-bc5a-433c-92ad-55eafdf5122a",
   "metadata": {},
   "outputs": [],
   "source": [
    "Mama_daily_pints_log = {1,2,63,4,45,3,2,1,98,0}"
   ]
  },
  {
   "cell_type": "code",
   "execution_count": 170,
   "id": "6f1bf7bd-4f4f-4fb7-8b9d-c8affa930291",
   "metadata": {},
   "outputs": [
    {
     "name": "stdout",
     "output_type": "stream",
     "text": [
      "{0, 1, 2, 3, 4, 33, 98, 44, 45, 63}\n"
     ]
    }
   ],
   "source": [
    "print(daily_pints_log | Mama_daily_pints_log)"
   ]
  },
  {
   "cell_type": "code",
   "execution_count": 172,
   "id": "92be3a84-3ab5-474f-8a58-ee3d37d30704",
   "metadata": {},
   "outputs": [
    {
     "name": "stdout",
     "output_type": "stream",
     "text": [
      "{1, 2, 3, 4}\n"
     ]
    }
   ],
   "source": [
    "print(daily_pints_log & Mama_daily_pints_log)"
   ]
  },
  {
   "cell_type": "code",
   "execution_count": 174,
   "id": "a7fa4e8a-ac8f-4d62-a420-593bb53634d1",
   "metadata": {},
   "outputs": [
    {
     "name": "stdout",
     "output_type": "stream",
     "text": [
      "{33, 44}\n"
     ]
    }
   ],
   "source": [
    "print(daily_pints_log - Mama_daily_pints_log)"
   ]
  },
  {
   "cell_type": "code",
   "execution_count": 176,
   "id": "853ea637-f997-464b-90a3-c706547dc9c8",
   "metadata": {},
   "outputs": [
    {
     "name": "stdout",
     "output_type": "stream",
     "text": [
      "{0, 98, 45, 63}\n"
     ]
    }
   ],
   "source": [
    "print(Mama_daily_pints_log - daily_pints_log)"
   ]
  },
  {
   "cell_type": "code",
   "execution_count": 178,
   "id": "1e01bd1b-d756-4f57-bccb-dae1d30766cc",
   "metadata": {},
   "outputs": [
    {
     "name": "stdout",
     "output_type": "stream",
     "text": [
      "{0, 33, 98, 44, 45, 63}\n"
     ]
    }
   ],
   "source": [
    "print(Mama_daily_pints_log ^ daily_pints_log)"
   ]
  },
  {
   "cell_type": "code",
   "execution_count": null,
   "id": "9c2c68d8-c5c1-4962-b07a-41ddda900eb6",
   "metadata": {},
   "outputs": [],
   "source": []
  },
  {
   "cell_type": "code",
   "execution_count": 198,
   "id": "52b3f979-f403-4a88-8175-26648b80894d",
   "metadata": {},
   "outputs": [],
   "source": [
    "# dictionaries\n",
    "# key/value pair\n",
    "\n",
    "dict_Cream = {'name': 'michael', 'weekly' : '5', 'fav': ['praise','worship']}"
   ]
  },
  {
   "cell_type": "code",
   "execution_count": 204,
   "id": "f922b586-5221-4a7e-852b-a219df2b3a53",
   "metadata": {},
   "outputs": [
    {
     "data": {
      "text/plain": [
       "dict"
      ]
     },
     "execution_count": 204,
     "metadata": {},
     "output_type": "execute_result"
    }
   ],
   "source": [
    "type(dict_Cream)"
   ]
  },
  {
   "cell_type": "code",
   "execution_count": 218,
   "id": "823f092c-aa28-43d3-8e48-cf1c4eafa106",
   "metadata": {},
   "outputs": [
    {
     "name": "stdout",
     "output_type": "stream",
     "text": [
      "{'name': 'michael', 'weekly': '5', 'fav': ['praise', 'worship']}\n"
     ]
    }
   ],
   "source": [
    "print(dict_Cream)"
   ]
  },
  {
   "cell_type": "code",
   "execution_count": 220,
   "id": "365b2bbd-1382-428b-9c77-df2af3eaa7f6",
   "metadata": {},
   "outputs": [
    {
     "data": {
      "text/plain": [
       "<function dict.values>"
      ]
     },
     "execution_count": 220,
     "metadata": {},
     "output_type": "execute_result"
    }
   ],
   "source": [
    "dict_Cream.values"
   ]
  },
  {
   "cell_type": "code",
   "execution_count": 222,
   "id": "10a95920-d555-4d12-972b-8348457b4559",
   "metadata": {},
   "outputs": [
    {
     "data": {
      "text/plain": [
       "dict_values(['michael', '5', ['praise', 'worship']])"
      ]
     },
     "execution_count": 222,
     "metadata": {},
     "output_type": "execute_result"
    }
   ],
   "source": [
    "dict_Cream.values()"
   ]
  },
  {
   "cell_type": "code",
   "execution_count": 224,
   "id": "38b52fde-aa0b-45bb-ab91-bb0df6ac1396",
   "metadata": {},
   "outputs": [
    {
     "data": {
      "text/plain": [
       "<function dict.keys>"
      ]
     },
     "execution_count": 224,
     "metadata": {},
     "output_type": "execute_result"
    }
   ],
   "source": [
    "dict_Cream.keys"
   ]
  },
  {
   "cell_type": "code",
   "execution_count": 226,
   "id": "1e301ada-a368-42fc-b604-eaaa80c09fa2",
   "metadata": {},
   "outputs": [
    {
     "data": {
      "text/plain": [
       "dict_keys(['name', 'weekly', 'fav'])"
      ]
     },
     "execution_count": 226,
     "metadata": {},
     "output_type": "execute_result"
    }
   ],
   "source": [
    "dict_Cream.keys()"
   ]
  },
  {
   "cell_type": "code",
   "execution_count": 228,
   "id": "940278e2-745a-4bf9-8f6e-060ed1b4218e",
   "metadata": {},
   "outputs": [
    {
     "data": {
      "text/plain": [
       "dict_items([('name', 'michael'), ('weekly', '5'), ('fav', ['praise', 'worship'])])"
      ]
     },
     "execution_count": 228,
     "metadata": {},
     "output_type": "execute_result"
    }
   ],
   "source": [
    "dict_Cream.items()"
   ]
  },
  {
   "cell_type": "code",
   "execution_count": 234,
   "id": "295037a2-a4f6-4bb1-b660-d08741f35254",
   "metadata": {},
   "outputs": [
    {
     "data": {
      "text/plain": [
       "'michael'"
      ]
     },
     "execution_count": 234,
     "metadata": {},
     "output_type": "execute_result"
    }
   ],
   "source": [
    "dict_Cream['name']"
   ]
  },
  {
   "cell_type": "code",
   "execution_count": 236,
   "id": "65b4246b-54e9-41cd-8c54-825c077123a6",
   "metadata": {},
   "outputs": [
    {
     "data": {
      "text/plain": [
       "['praise', 'worship']"
      ]
     },
     "execution_count": 236,
     "metadata": {},
     "output_type": "execute_result"
    }
   ],
   "source": [
    "dict_Cream['fav']"
   ]
  },
  {
   "cell_type": "code",
   "execution_count": 238,
   "id": "6a8233af-83a2-4d7c-8d2b-e06ddf3ffad1",
   "metadata": {},
   "outputs": [
    {
     "name": "stdout",
     "output_type": "stream",
     "text": [
      "{'name': 'pamilerin michael', 'weekly': '5', 'fav': ['praise', 'worship']}\n"
     ]
    }
   ],
   "source": [
    "dict_Cream['name'] = 'pamilerin michael'\n",
    "print(dict_Cream)"
   ]
  },
  {
   "cell_type": "code",
   "execution_count": 240,
   "id": "92ff7444-07e4-4c9e-b167-4bd5ffe2a922",
   "metadata": {},
   "outputs": [
    {
     "name": "stdout",
     "output_type": "stream",
     "text": [
      "{'name': 'pamilerin michael', 'weekly': '5', 'fav': ['praise', 'worship'], 'hobby': 'sports'}\n"
     ]
    }
   ],
   "source": [
    "dict_Cream.update({'name' : 'pamilerin michael','hobby' : 'sports'})\n",
    "print(dict_Cream)"
   ]
  },
  {
   "cell_type": "code",
   "execution_count": null,
   "id": "5ec7157d-afea-41a2-883f-fb81890e6ed2",
   "metadata": {},
   "outputs": [],
   "source": []
  },
  {
   "cell_type": "code",
   "execution_count": 242,
   "id": "8c8bfa22-7e12-4f50-b672-afc13908a3ab",
   "metadata": {},
   "outputs": [
    {
     "name": "stdout",
     "output_type": "stream",
     "text": [
      "{'name': 'pamilerin michael', 'fav': ['praise', 'worship'], 'hobby': 'sports'}\n"
     ]
    }
   ],
   "source": [
    "del dict_Cream['weekly']\n",
    "print(dict_Cream)"
   ]
  },
  {
   "cell_type": "code",
   "execution_count": null,
   "id": "f714f50b-65e3-4cd6-ae3f-9229b02241be",
   "metadata": {},
   "outputs": [],
   "source": []
  },
  {
   "cell_type": "code",
   "execution_count": null,
   "id": "2e175661-ec18-4cfc-9597-166f26c6ead2",
   "metadata": {},
   "outputs": [],
   "source": []
  },
  {
   "cell_type": "code",
   "execution_count": null,
   "id": "60119155-adf0-462e-9809-27c67a7990eb",
   "metadata": {},
   "outputs": [],
   "source": []
  },
  {
   "cell_type": "code",
   "execution_count": null,
   "id": "a22d8cf6-b148-42e8-86a4-fb22ed255f23",
   "metadata": {},
   "outputs": [],
   "source": []
  },
  {
   "cell_type": "code",
   "execution_count": null,
   "id": "0c6f79bd-57a3-475b-95a5-acea15e430bb",
   "metadata": {},
   "outputs": [],
   "source": []
  },
  {
   "cell_type": "code",
   "execution_count": null,
   "id": "4ce138c8-fcaa-476c-8191-52ef82d9edfa",
   "metadata": {},
   "outputs": [],
   "source": []
  }
 ],
 "metadata": {
  "kernelspec": {
   "display_name": "Python 3 (ipykernel)",
   "language": "python",
   "name": "python3"
  },
  "language_info": {
   "codemirror_mode": {
    "name": "ipython",
    "version": 3
   },
   "file_extension": ".py",
   "mimetype": "text/x-python",
   "name": "python",
   "nbconvert_exporter": "python",
   "pygments_lexer": "ipython3",
   "version": "3.12.4"
  }
 },
 "nbformat": 4,
 "nbformat_minor": 5
}
