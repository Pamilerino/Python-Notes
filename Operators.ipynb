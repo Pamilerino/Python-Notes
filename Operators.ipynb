{
 "cells": [
  {
   "cell_type": "markdown",
   "id": "b28c208c-b949-4efe-a53b-52b55850dda7",
   "metadata": {},
   "source": [
    "# Comparisssion Operators"
   ]
  },
  {
   "cell_type": "code",
   "execution_count": 3,
   "id": "760e5936-8894-47d9-b0c5-cb9a67fbcc10",
   "metadata": {},
   "outputs": [
    {
     "data": {
      "text/plain": [
       "True"
      ]
     },
     "execution_count": 3,
     "metadata": {},
     "output_type": "execute_result"
    }
   ],
   "source": [
    "10 == 10"
   ]
  },
  {
   "cell_type": "code",
   "execution_count": 5,
   "id": "5bbfb2d3-890e-480f-9cac-aeebfe1c3750",
   "metadata": {},
   "outputs": [
    {
     "data": {
      "text/plain": [
       "False"
      ]
     },
     "execution_count": 5,
     "metadata": {},
     "output_type": "execute_result"
    }
   ],
   "source": [
    "10 == 40"
   ]
  },
  {
   "cell_type": "code",
   "execution_count": 7,
   "id": "840efe7e-4009-41a8-9e95-161035a0dc7c",
   "metadata": {},
   "outputs": [
    {
     "data": {
      "text/plain": [
       "True"
      ]
     },
     "execution_count": 7,
     "metadata": {},
     "output_type": "execute_result"
    }
   ],
   "source": [
    "10 != 40"
   ]
  },
  {
   "cell_type": "code",
   "execution_count": 9,
   "id": "b8f1d937-eb53-417e-95b9-c6d1e2e9f3da",
   "metadata": {},
   "outputs": [
    {
     "data": {
      "text/plain": [
       "True"
      ]
     },
     "execution_count": 9,
     "metadata": {},
     "output_type": "execute_result"
    }
   ],
   "source": [
    "'Happy' == 'Happy'"
   ]
  },
  {
   "cell_type": "code",
   "execution_count": 11,
   "id": "4196e0a1-e9ef-4cad-a26f-b41d28a5672a",
   "metadata": {},
   "outputs": [
    {
     "data": {
      "text/plain": [
       "False"
      ]
     },
     "execution_count": 11,
     "metadata": {},
     "output_type": "execute_result"
    }
   ],
   "source": [
    "x = 'Happy'\n",
    "y = 'Day'\n",
    "\n",
    "x==y"
   ]
  },
  {
   "cell_type": "code",
   "execution_count": 13,
   "id": "da106c60-978a-4ca7-a2f0-908c5169ae2c",
   "metadata": {},
   "outputs": [
    {
     "data": {
      "text/plain": [
       "True"
      ]
     },
     "execution_count": 13,
     "metadata": {},
     "output_type": "execute_result"
    }
   ],
   "source": [
    "x = 'Happy'\n",
    "y = 'Day'\n",
    "\n",
    "x!=y"
   ]
  },
  {
   "cell_type": "code",
   "execution_count": null,
   "id": "63f40f16-3357-41ec-a3a7-e1ac33594303",
   "metadata": {},
   "outputs": [],
   "source": []
  },
  {
   "cell_type": "code",
   "execution_count": 15,
   "id": "f4745d2f-a5c5-4178-b0cc-2ba93602c8d4",
   "metadata": {},
   "outputs": [
    {
     "data": {
      "text/plain": [
       "True"
      ]
     },
     "execution_count": 15,
     "metadata": {},
     "output_type": "execute_result"
    }
   ],
   "source": [
    "10 < 50"
   ]
  },
  {
   "cell_type": "code",
   "execution_count": 17,
   "id": "8caafeef-b979-4627-ad00-5c2de017ca66",
   "metadata": {},
   "outputs": [
    {
     "data": {
      "text/plain": [
       "False"
      ]
     },
     "execution_count": 17,
     "metadata": {},
     "output_type": "execute_result"
    }
   ],
   "source": [
    "10 < 10"
   ]
  },
  {
   "cell_type": "code",
   "execution_count": 19,
   "id": "58554e2a-c32e-49eb-9cf7-5c7d49626025",
   "metadata": {},
   "outputs": [
    {
     "data": {
      "text/plain": [
       "True"
      ]
     },
     "execution_count": 19,
     "metadata": {},
     "output_type": "execute_result"
    }
   ],
   "source": [
    "10 <= 10"
   ]
  },
  {
   "cell_type": "code",
   "execution_count": 21,
   "id": "66ae219d-634c-49d8-b2dc-bf76ccc89a16",
   "metadata": {},
   "outputs": [
    {
     "data": {
      "text/plain": [
       "True"
      ]
     },
     "execution_count": 21,
     "metadata": {},
     "output_type": "execute_result"
    }
   ],
   "source": [
    "100 >= 10"
   ]
  },
  {
   "cell_type": "code",
   "execution_count": null,
   "id": "518a9a29-4d26-4e7f-8b14-7b370823ebfd",
   "metadata": {},
   "outputs": [],
   "source": []
  },
  {
   "cell_type": "markdown",
   "id": "873c6591-9221-443d-8e74-348219cb5616",
   "metadata": {},
   "source": [
    "# Logical Operators"
   ]
  },
  {
   "cell_type": "code",
   "execution_count": 24,
   "id": "a8d23894-7129-4518-af2a-bb752a4ca116",
   "metadata": {},
   "outputs": [
    {
     "data": {
      "text/plain": [
       "False"
      ]
     },
     "execution_count": 24,
     "metadata": {},
     "output_type": "execute_result"
    }
   ],
   "source": [
    "10 > 50"
   ]
  },
  {
   "cell_type": "code",
   "execution_count": 26,
   "id": "1bddd186-930b-4ae7-8d3a-3a9799faef2e",
   "metadata": {},
   "outputs": [
    {
     "data": {
      "text/plain": [
       "False"
      ]
     },
     "execution_count": 26,
     "metadata": {},
     "output_type": "execute_result"
    }
   ],
   "source": [
    "(10 > 50) and (50 > 10)"
   ]
  },
  {
   "cell_type": "code",
   "execution_count": 28,
   "id": "781e7075-3e35-48b3-b2f2-1b407f4fa2c6",
   "metadata": {},
   "outputs": [
    {
     "data": {
      "text/plain": [
       "True"
      ]
     },
     "execution_count": 28,
     "metadata": {},
     "output_type": "execute_result"
    }
   ],
   "source": [
    "(70 > 50) and (50 > 10)"
   ]
  },
  {
   "cell_type": "code",
   "execution_count": 30,
   "id": "25f22121-1e4f-485e-867a-1546b79e8f9a",
   "metadata": {},
   "outputs": [
    {
     "data": {
      "text/plain": [
       "True"
      ]
     },
     "execution_count": 30,
     "metadata": {},
     "output_type": "execute_result"
    }
   ],
   "source": [
    "(10 > 50) or (50 > 10)"
   ]
  },
  {
   "cell_type": "code",
   "execution_count": 32,
   "id": "f482ad88-8db1-49f9-87e8-cf87a9c986f5",
   "metadata": {},
   "outputs": [
    {
     "data": {
      "text/plain": [
       "True"
      ]
     },
     "execution_count": 32,
     "metadata": {},
     "output_type": "execute_result"
    }
   ],
   "source": [
    "('Vanilla' > 'Chocolate') or (50 > 10)"
   ]
  },
  {
   "cell_type": "code",
   "execution_count": 34,
   "id": "8548023e-bb2e-4ce9-bcea-6fdb3785b154",
   "metadata": {},
   "outputs": [
    {
     "data": {
      "text/plain": [
       "True"
      ]
     },
     "execution_count": 34,
     "metadata": {},
     "output_type": "execute_result"
    }
   ],
   "source": [
    "('Vanilla' > 'Chocolate') and (50 > 10)"
   ]
  },
  {
   "cell_type": "code",
   "execution_count": 36,
   "id": "f4c4b114-8d2c-47b0-90ef-d212ae691cf3",
   "metadata": {},
   "outputs": [
    {
     "data": {
      "text/plain": [
       "False"
      ]
     },
     "execution_count": 36,
     "metadata": {},
     "output_type": "execute_result"
    }
   ],
   "source": [
    "not (50 > 10)"
   ]
  },
  {
   "cell_type": "code",
   "execution_count": null,
   "id": "34cc2533-889f-4252-a3e7-00e1e9d80ebd",
   "metadata": {},
   "outputs": [],
   "source": []
  },
  {
   "cell_type": "markdown",
   "id": "28728c30-24f1-45d3-9cbe-dae1b2bd83e0",
   "metadata": {},
   "source": [
    "# Membership Operators"
   ]
  },
  {
   "cell_type": "code",
   "execution_count": 59,
   "id": "6db88590-3c34-49f8-9fc1-91c2046575b6",
   "metadata": {},
   "outputs": [
    {
     "data": {
      "text/plain": [
       "True"
      ]
     },
     "execution_count": 59,
     "metadata": {},
     "output_type": "execute_result"
    }
   ],
   "source": [
    "Success_Pep = 'Victory loves preparation'\n",
    "'love' in Success_Pep"
   ]
  },
  {
   "cell_type": "code",
   "execution_count": 61,
   "id": "478d02fa-f6fa-4c0c-8f7c-6e6aa5b5e6ed",
   "metadata": {},
   "outputs": [
    {
     "data": {
      "text/plain": [
       "True"
      ]
     },
     "execution_count": 61,
     "metadata": {},
     "output_type": "execute_result"
    }
   ],
   "source": [
    "Success_Pep = 'Victory loves preparation'\n",
    "'love' in 'Victory loves preparation'"
   ]
  },
  {
   "cell_type": "code",
   "execution_count": 69,
   "id": "6b4f9a5b-d944-4330-9e5e-3a854a4faee8",
   "metadata": {},
   "outputs": [
    {
     "data": {
      "text/plain": [
       "True"
      ]
     },
     "execution_count": 69,
     "metadata": {},
     "output_type": "execute_result"
    }
   ],
   "source": [
    "love = [9,2,1,2,3]\n",
    "9 in love"
   ]
  },
  {
   "cell_type": "code",
   "execution_count": 71,
   "id": "7eba5080-dffc-47a4-bcad-cbe2413c3d6e",
   "metadata": {},
   "outputs": [
    {
     "data": {
      "text/plain": [
       "False"
      ]
     },
     "execution_count": 71,
     "metadata": {},
     "output_type": "execute_result"
    }
   ],
   "source": [
    "love = [9,2,1,2,3]\n",
    "4 in love"
   ]
  },
  {
   "cell_type": "code",
   "execution_count": null,
   "id": "faafbcdd-865f-4f30-9da9-d5a990ea8273",
   "metadata": {},
   "outputs": [],
   "source": []
  },
  {
   "cell_type": "code",
   "execution_count": null,
   "id": "f57c1af3-78c6-40cf-8a59-84e11879121f",
   "metadata": {},
   "outputs": [],
   "source": []
  },
  {
   "cell_type": "code",
   "execution_count": null,
   "id": "98d192b9-efca-4b26-807b-4c45b882f3ec",
   "metadata": {},
   "outputs": [],
   "source": []
  },
  {
   "cell_type": "code",
   "execution_count": null,
   "id": "e7909c47-7a88-46cf-b0f8-36999bb911db",
   "metadata": {},
   "outputs": [],
   "source": []
  },
  {
   "cell_type": "code",
   "execution_count": null,
   "id": "91a03778-7ffb-428b-b9a6-8b25d74c99cc",
   "metadata": {},
   "outputs": [],
   "source": []
  },
  {
   "cell_type": "code",
   "execution_count": null,
   "id": "be66ec69-ff2b-46b8-8125-392b8dfdecca",
   "metadata": {},
   "outputs": [],
   "source": []
  },
  {
   "cell_type": "code",
   "execution_count": null,
   "id": "a7c6282d-6e7c-4a51-9414-a45c596f3342",
   "metadata": {},
   "outputs": [],
   "source": []
  },
  {
   "cell_type": "code",
   "execution_count": null,
   "id": "008b1d9b-a38d-4074-a948-127a861d5d49",
   "metadata": {},
   "outputs": [],
   "source": []
  },
  {
   "cell_type": "code",
   "execution_count": null,
   "id": "727430f4-d835-4687-add8-4740a8c37a32",
   "metadata": {},
   "outputs": [],
   "source": []
  },
  {
   "cell_type": "code",
   "execution_count": null,
   "id": "3a0c6c22-b981-43ad-a13a-a10f746bfbcf",
   "metadata": {},
   "outputs": [],
   "source": []
  }
 ],
 "metadata": {
  "kernelspec": {
   "display_name": "Python 3 (ipykernel)",
   "language": "python",
   "name": "python3"
  },
  "language_info": {
   "codemirror_mode": {
    "name": "ipython",
    "version": 3
   },
   "file_extension": ".py",
   "mimetype": "text/x-python",
   "name": "python",
   "nbconvert_exporter": "python",
   "pygments_lexer": "ipython3",
   "version": "3.12.4"
  }
 },
 "nbformat": 4,
 "nbformat_minor": 5
}
