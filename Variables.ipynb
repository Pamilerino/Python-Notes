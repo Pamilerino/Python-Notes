{
 "cells": [
  {
   "cell_type": "markdown",
   "id": "7664bfe9-68a7-4e90-9377-ad79d09c6736",
   "metadata": {},
   "source": [
    "# Variables in Python"
   ]
  },
  {
   "cell_type": "code",
   "execution_count": 15,
   "id": "10506a32-c6d6-4a80-ad7f-e1c60dcfc48e",
   "metadata": {},
   "outputs": [
    {
     "name": "stdout",
     "output_type": "stream",
     "text": [
      "22\n"
     ]
    }
   ],
   "source": [
    "x = 22\n",
    "print(x)"
   ]
  },
  {
   "cell_type": "code",
   "execution_count": 17,
   "id": "d6f71747-235e-408c-8cbf-5bd0361cc957",
   "metadata": {},
   "outputs": [
    {
     "data": {
      "text/plain": [
       "int"
      ]
     },
     "execution_count": 17,
     "metadata": {},
     "output_type": "execute_result"
    }
   ],
   "source": [
    "type(x)"
   ]
  },
  {
   "cell_type": "code",
   "execution_count": 19,
   "id": "a1134cc8-c235-4118-8cb8-33d7373544a6",
   "metadata": {},
   "outputs": [
    {
     "name": "stdout",
     "output_type": "stream",
     "text": [
      "Goo-Goo,Gaa-Gaa\n"
     ]
    }
   ],
   "source": [
    "y = \"Goo-Goo,Gaa-Gaa\"\n",
    "print (y)"
   ]
  },
  {
   "cell_type": "code",
   "execution_count": 21,
   "id": "963d1dca-ae65-4dbd-a04c-1a04e59fb939",
   "metadata": {},
   "outputs": [
    {
     "data": {
      "text/plain": [
       "str"
      ]
     },
     "execution_count": 21,
     "metadata": {},
     "output_type": "execute_result"
    }
   ],
   "source": [
    "type(y)"
   ]
  },
  {
   "cell_type": "code",
   "execution_count": 5,
   "id": "989fc270-fa8e-4411-a877-558ff7fb521f",
   "metadata": {},
   "outputs": [
    {
     "name": "stdout",
     "output_type": "stream",
     "text": [
      "Goo-Goo,Gaa-Gaa\n"
     ]
    }
   ],
   "source": [
    "y = \"Googoo\"\n",
    "y = \"Goo-Goo,Gaa-Gaa\"\n",
    "print(y)"
   ]
  },
  {
   "cell_type": "code",
   "execution_count": 7,
   "id": "f9d8699e-aadb-45a6-92c3-707221b50cb0",
   "metadata": {},
   "outputs": [
    {
     "name": "stdout",
     "output_type": "stream",
     "text": [
      "Googoo\n"
     ]
    }
   ],
   "source": [
    "y = \"Googoo\"\n",
    "Y = \"Goo-Goo,Gaa-Gaa\"\n",
    "print(y)"
   ]
  },
  {
   "cell_type": "code",
   "execution_count": 9,
   "id": "d657dfc9-e55a-4cef-b570-4d0703aab402",
   "metadata": {},
   "outputs": [
    {
     "name": "stdout",
     "output_type": "stream",
     "text": [
      "you\n",
      "are\n",
      "bold\n"
     ]
    }
   ],
   "source": [
    "x,y,z = 'you','are','bold'\n",
    "print(x)\n",
    "print(y)\n",
    "print(z)"
   ]
  },
  {
   "cell_type": "code",
   "execution_count": 13,
   "id": "0c82555e-f39e-4912-8642-25566f047fda",
   "metadata": {},
   "outputs": [
    {
     "name": "stdout",
     "output_type": "stream",
     "text": [
      "Beer & pizza\n",
      "Beer & pizza\n",
      "Beer & pizza\n"
     ]
    }
   ],
   "source": [
    "x=y=z='Beer & pizza'\n",
    "print (x)\n",
    "print (y)\n",
    "print (z)"
   ]
  },
  {
   "cell_type": "code",
   "execution_count": 16,
   "id": "4f452c83-fbb7-4d7b-9300-9fdbc8efa2c8",
   "metadata": {},
   "outputs": [
    {
     "name": "stdout",
     "output_type": "stream",
     "text": [
      "chocolate\n",
      "vanilla\n",
      "strawberry\n"
     ]
    }
   ],
   "source": [
    "ice_cream = ['chocolate','vanilla','strawberry']\n",
    "x,y,z = ice_cream\n",
    "print (x)\n",
    "print (y)\n",
    "print (z)"
   ]
  },
  {
   "cell_type": "code",
   "execution_count": null,
   "id": "a7c564bc-f07d-42c3-a9e3-3b5a89c0b14f",
   "metadata": {},
   "outputs": [],
   "source": []
  },
  {
   "cell_type": "code",
   "execution_count": null,
   "id": "3d9f59f1-41ff-455c-b8b7-df3bd538d84d",
   "metadata": {},
   "outputs": [],
   "source": [
    "How to write Variables"
   ]
  },
  {
   "cell_type": "code",
   "execution_count": null,
   "id": "e8a7d50d-da8f-4de9-ad4f-d42921da62a6",
   "metadata": {},
   "outputs": [],
   "source": [
    "# camel case \n",
    "\n",
    "#Test variable case\n",
    "\n",
    "testVariableCase = 'Vanilla Swirl'"
   ]
  },
  {
   "cell_type": "code",
   "execution_count": null,
   "id": "9e7b0c57-f21c-4cc5-842a-c1cb801b7b98",
   "metadata": {},
   "outputs": [],
   "source": [
    "# pascal case \n",
    "\n",
    "#Test variable case\n",
    "\n",
    "TestVariableCase = 'Vanilla Swirl'"
   ]
  },
  {
   "cell_type": "code",
   "execution_count": null,
   "id": "cb8fd5c9-0a46-442a-8060-b27707a01d94",
   "metadata": {},
   "outputs": [],
   "source": [
    "# snake case \n",
    "\n",
    "#Test variable case\n",
    "\n",
    "test_variable_case = 'Vanilla Swirl'"
   ]
  },
  {
   "cell_type": "code",
   "execution_count": null,
   "id": "d20270b4-2213-453e-ba70-c46c4c0afc46",
   "metadata": {},
   "outputs": [],
   "source": [
    "testvar = 'Vanilla Swirl'\n",
    "test_var = 'Vanilla Swirl'\n",
    "_test_var = 'Vanilla Swirl'\n",
    "testVar = 'Vanilla Swirl'\n",
    "testVar2 = 'Vanilla Swirl'"
   ]
  },
  {
   "cell_type": "code",
   "execution_count": null,
   "id": "0a885db3-249e-4d71-bdc5-22771a9a3ec8",
   "metadata": {},
   "outputs": [],
   "source": []
  },
  {
   "cell_type": "code",
   "execution_count": null,
   "id": "15bc8320-7ce0-4e8f-b008-847411af2465",
   "metadata": {},
   "outputs": [],
   "source": [
    "# Invalid Variables\n",
    "2testvar = 'Vanilla Swirl'\n",
    "test-Var2 = 'Vanilla Swirl'\n",
    "test var2 = 'Vanilla swirl'\n",
    "test,Var2 = 'Vanilla Swirl'\n"
   ]
  },
  {
   "cell_type": "code",
   "execution_count": 23,
   "id": "dd360c86-d67b-4798-bdb5-71cdaf5769b9",
   "metadata": {},
   "outputs": [
    {
     "name": "stdout",
     "output_type": "stream",
     "text": [
      "Buns n Batter.\n"
     ]
    }
   ],
   "source": [
    "x = 'Buns n Batter' + '.'\n",
    "print (x)"
   ]
  },
  {
   "cell_type": "code",
   "execution_count": 25,
   "id": "aaf30ce7-246a-4b66-a274-47eaa7f8bda3",
   "metadata": {},
   "outputs": [
    {
     "name": "stdout",
     "output_type": "stream",
     "text": [
      "Buns n Batter2\n"
     ]
    }
   ],
   "source": [
    "x = 'Buns n Batter' + '2'\n",
    "print (x)"
   ]
  },
  {
   "cell_type": "code",
   "execution_count": 27,
   "id": "d1dcf55d-f6ac-45d6-93b3-2c58515376b4",
   "metadata": {},
   "outputs": [
    {
     "ename": "TypeError",
     "evalue": "can only concatenate str (not \"int\") to str",
     "output_type": "error",
     "traceback": [
      "\u001b[1;31m---------------------------------------------------------------------------\u001b[0m",
      "\u001b[1;31mTypeError\u001b[0m                                 Traceback (most recent call last)",
      "Cell \u001b[1;32mIn[27], line 1\u001b[0m\n\u001b[1;32m----> 1\u001b[0m x \u001b[38;5;241m=\u001b[39m \u001b[38;5;124m'\u001b[39m\u001b[38;5;124mBuns n Batter\u001b[39m\u001b[38;5;124m'\u001b[39m \u001b[38;5;241m+\u001b[39m \u001b[38;5;241m2\u001b[39m\n\u001b[0;32m      2\u001b[0m \u001b[38;5;28mprint\u001b[39m (x)\n",
      "\u001b[1;31mTypeError\u001b[0m: can only concatenate str (not \"int\") to str"
     ]
    }
   ],
   "source": [
    "x = 'Buns n Batter' + 2\n",
    "print (x)"
   ]
  },
  {
   "cell_type": "code",
   "execution_count": 29,
   "id": "d8bd399c-b11c-4dc8-af00-56ecb686a7b0",
   "metadata": {},
   "outputs": [
    {
     "name": "stdout",
     "output_type": "stream",
     "text": [
      "7\n"
     ]
    }
   ],
   "source": [
    "y = 5+2\n",
    "print (y)"
   ]
  },
  {
   "cell_type": "code",
   "execution_count": null,
   "id": "b08ef35e-4b1e-4270-8b32-ab6a48e25f5f",
   "metadata": {},
   "outputs": [],
   "source": []
  },
  {
   "cell_type": "code",
   "execution_count": 31,
   "id": "4914e4d0-c8ef-40fa-a078-8ecbc1b449ec",
   "metadata": {},
   "outputs": [
    {
     "ename": "SyntaxError",
     "evalue": "invalid syntax (1765712199.py, line 4)",
     "output_type": "error",
     "traceback": [
      "\u001b[1;36m  Cell \u001b[1;32mIn[31], line 4\u001b[1;36m\u001b[0m\n\u001b[1;33m    print (x=y=z)\u001b[0m\n\u001b[1;37m              ^\u001b[0m\n\u001b[1;31mSyntaxError\u001b[0m\u001b[1;31m:\u001b[0m invalid syntax\n"
     ]
    }
   ],
   "source": [
    "x = 'Buns n Batter'\n",
    "y = 'is'\n",
    "z = 'condusive'\n",
    "print (x=y=z)"
   ]
  },
  {
   "cell_type": "code",
   "execution_count": 35,
   "id": "a252c123-f3c4-4308-97bf-34fa3084b18f",
   "metadata": {},
   "outputs": [
    {
     "name": "stdout",
     "output_type": "stream",
     "text": [
      "Buns n Batter is condusive\n"
     ]
    }
   ],
   "source": [
    "x = 'Buns n Batter'\n",
    "y = ' is'\n",
    "z = ' condusive'\n",
    "print (x+y+z)"
   ]
  },
  {
   "cell_type": "code",
   "execution_count": null,
   "id": "4c0a8765-3072-45bc-bcf8-427f4ff1da7b",
   "metadata": {},
   "outputs": [],
   "source": []
  },
  {
   "cell_type": "code",
   "execution_count": 31,
   "id": "45502138-8588-43bf-b237-7234d230d3be",
   "metadata": {},
   "outputs": [
    {
     "ename": "SyntaxError",
     "evalue": "invalid syntax (1765712199.py, line 4)",
     "output_type": "error",
     "traceback": [
      "\u001b[1;36m  Cell \u001b[1;32mIn[31], line 4\u001b[1;36m\u001b[0m\n\u001b[1;33m    print (x=y=z)\u001b[0m\n\u001b[1;37m              ^\u001b[0m\n\u001b[1;31mSyntaxError\u001b[0m\u001b[1;31m:\u001b[0m invalid syntax\n"
     ]
    }
   ],
   "source": [
    "x = 'Buns n Batter'\n",
    "y = 'is'\n",
    "z = 'condusive'\n",
    "print (x=y=z)"
   ]
  },
  {
   "cell_type": "code",
   "execution_count": 37,
   "id": "fdda10c0-01ad-45d9-a540-c66135335349",
   "metadata": {},
   "outputs": [
    {
     "name": "stdout",
     "output_type": "stream",
     "text": [
      "6\n"
     ]
    }
   ],
   "source": [
    "x = 1\n",
    "y = 2\n",
    "z = 3\n",
    "print(x+y+z)"
   ]
  },
  {
   "cell_type": "code",
   "execution_count": null,
   "id": "31b869e2-502e-42f2-b01d-d0027439b3f9",
   "metadata": {},
   "outputs": [],
   "source": []
  }
 ],
 "metadata": {
  "kernelspec": {
   "display_name": "Python 3 (ipykernel)",
   "language": "python",
   "name": "python3"
  },
  "language_info": {
   "codemirror_mode": {
    "name": "ipython",
    "version": 3
   },
   "file_extension": ".py",
   "mimetype": "text/x-python",
   "name": "python",
   "nbconvert_exporter": "python",
   "pygments_lexer": "ipython3",
   "version": "3.12.4"
  }
 },
 "nbformat": 4,
 "nbformat_minor": 5
}
