{
 "cells": [
  {
   "cell_type": "markdown",
   "id": "22ea3e43-d237-491c-b3bd-694aba1cd7b7",
   "metadata": {},
   "source": [
    "# For Loops "
   ]
  },
  {
   "cell_type": "code",
   "execution_count": 1,
   "id": "5eaee325-4baa-40a4-86a1-9a6bebe81b8f",
   "metadata": {},
   "outputs": [],
   "source": [
    "integers = [1,2,3,4,5]"
   ]
  },
  {
   "cell_type": "code",
   "execution_count": 3,
   "id": "70294352-7be5-4693-9c4d-878690fdef84",
   "metadata": {},
   "outputs": [
    {
     "name": "stdout",
     "output_type": "stream",
     "text": [
      "1\n",
      "2\n",
      "3\n",
      "4\n",
      "5\n"
     ]
    }
   ],
   "source": [
    "for number in integers:\n",
    "    print (number)\n"
   ]
  },
  {
   "cell_type": "code",
   "execution_count": 7,
   "id": "f6f64999-dcc7-486c-aa07-62ed73726dfd",
   "metadata": {},
   "outputs": [
    {
     "name": "stdout",
     "output_type": "stream",
     "text": [
      "Awesome!\n",
      "Awesome!\n",
      "Awesome!\n",
      "Awesome!\n",
      "Awesome!\n"
     ]
    }
   ],
   "source": [
    "for number in integers:\n",
    "    print ('Awesome!')\n"
   ]
  },
  {
   "cell_type": "code",
   "execution_count": null,
   "id": "566a3d36-be62-4a0d-9754-6520648c4927",
   "metadata": {},
   "outputs": [],
   "source": []
  },
  {
   "cell_type": "code",
   "execution_count": 1,
   "id": "4d05c115-19ea-40f5-bd91-6c6233da65ac",
   "metadata": {},
   "outputs": [],
   "source": [
    "integers = [1,2,3,4,5]"
   ]
  },
  {
   "cell_type": "code",
   "execution_count": 9,
   "id": "78d911cb-bdb4-4c11-97c6-cae7279032fd",
   "metadata": {},
   "outputs": [
    {
     "name": "stdout",
     "output_type": "stream",
     "text": [
      "Awesome + Awesome\n",
      "Awesome + Awesome\n",
      "Awesome + Awesome\n",
      "Awesome + Awesome\n",
      "Awesome + Awesome\n"
     ]
    }
   ],
   "source": [
    "for number in integers:\n",
    "    print ('Awesome + Awesome')\n"
   ]
  },
  {
   "cell_type": "code",
   "execution_count": 11,
   "id": "a2e89fde-81f2-4214-993d-c498e3355c0c",
   "metadata": {},
   "outputs": [
    {
     "ename": "NameError",
     "evalue": "name 'Awesome' is not defined",
     "output_type": "error",
     "traceback": [
      "\u001b[1;31m---------------------------------------------------------------------------\u001b[0m",
      "\u001b[1;31mNameError\u001b[0m                                 Traceback (most recent call last)",
      "Cell \u001b[1;32mIn[11], line 2\u001b[0m\n\u001b[0;32m      1\u001b[0m \u001b[38;5;28;01mfor\u001b[39;00m number \u001b[38;5;129;01min\u001b[39;00m integers:\n\u001b[1;32m----> 2\u001b[0m     \u001b[38;5;28mprint\u001b[39m (Awesome \u001b[38;5;241m+\u001b[39m Awesome)\n",
      "\u001b[1;31mNameError\u001b[0m: name 'Awesome' is not defined"
     ]
    }
   ],
   "source": [
    "for number in integers:\n",
    "    print (Awesome + Awesome)\n"
   ]
  },
  {
   "cell_type": "code",
   "execution_count": null,
   "id": "24121634-d59d-427e-a1d6-e555937727fe",
   "metadata": {},
   "outputs": [],
   "source": []
  },
  {
   "cell_type": "code",
   "execution_count": 1,
   "id": "ac1b187c-12dd-4b33-869e-c595f5f3fdd0",
   "metadata": {},
   "outputs": [],
   "source": [
    "integers = [1,2,3,4,5]"
   ]
  },
  {
   "cell_type": "code",
   "execution_count": 13,
   "id": "4cd5e872-2e57-4fa0-a217-3a1d81b7604e",
   "metadata": {},
   "outputs": [
    {
     "name": "stdout",
     "output_type": "stream",
     "text": [
      "2\n",
      "4\n",
      "6\n",
      "8\n",
      "10\n"
     ]
    }
   ],
   "source": [
    "for Merlin in integers:\n",
    "    print (Merlin + Merlin)\n"
   ]
  },
  {
   "cell_type": "code",
   "execution_count": null,
   "id": "12822289-9067-4e67-997a-35f58f763595",
   "metadata": {},
   "outputs": [],
   "source": []
  },
  {
   "cell_type": "code",
   "execution_count": 15,
   "id": "c4e1c035-1422-49f2-8f74-b796546515bf",
   "metadata": {},
   "outputs": [],
   "source": [
    "learner_data_dict = {'name':'Michael', 'upload freq':7, 'fav mode':['vid','audio']}"
   ]
  },
  {
   "cell_type": "markdown",
   "id": "9d56fcc4-ce11-464c-a78e-b0e702b8015b",
   "metadata": {},
   "source": [
    "for learner in learner_data_dict.values():\n",
    "    print (learner)"
   ]
  },
  {
   "cell_type": "code",
   "execution_count": 19,
   "id": "6910a1a3-8f0b-4a1d-b0ca-8b40a918877f",
   "metadata": {},
   "outputs": [
    {
     "name": "stdout",
     "output_type": "stream",
     "text": [
      "name -> Michael\n",
      "upload freq -> 7\n",
      "fav mode -> ['vid', 'audio']\n"
     ]
    }
   ],
   "source": [
    "for key, value in learner_data_dict.items():\n",
    "    print (key,'->',value)"
   ]
  },
  {
   "cell_type": "code",
   "execution_count": null,
   "id": "0c4508ae-b318-42d2-9997-a84b7b8e3fcf",
   "metadata": {},
   "outputs": [],
   "source": []
  },
  {
   "cell_type": "markdown",
   "id": "55e1befb-15f2-4bc0-b5e1-b43794d8d8bc",
   "metadata": {},
   "source": [
    "# Nested For Loops"
   ]
  },
  {
   "cell_type": "code",
   "execution_count": 48,
   "id": "d6cee780-277b-46e0-9d64-a4f43324b579",
   "metadata": {},
   "outputs": [],
   "source": [
    "flavours = ['Ambition','Courage','Relentlessness']\n",
    "topping = ['Winning','Settled','Achieveable']"
   ]
  },
  {
   "cell_type": "code",
   "execution_count": 50,
   "id": "7b222ec0-4ed8-453e-8bc2-c5eacd1e647f",
   "metadata": {},
   "outputs": [
    {
     "name": "stdout",
     "output_type": "stream",
     "text": [
      "Ambition leads to Winning\n",
      "Ambition leads to Settled\n",
      "Ambition leads to Achieveable\n",
      "Courage leads to Winning\n",
      "Courage leads to Settled\n",
      "Courage leads to Achieveable\n",
      "Relentlessness leads to Winning\n",
      "Relentlessness leads to Settled\n",
      "Relentlessness leads to Achieveable\n"
     ]
    }
   ],
   "source": [
    "for one in flavours:\n",
    "    for two in topping:\n",
    "        print(one, 'leads to', two)"
   ]
  },
  {
   "cell_type": "code",
   "execution_count": null,
   "id": "9d77b6ff-33e4-4ee8-8ce6-9d46bea011f3",
   "metadata": {},
   "outputs": [],
   "source": []
  },
  {
   "cell_type": "code",
   "execution_count": null,
   "id": "868668df-762b-469c-9820-23c69356851c",
   "metadata": {},
   "outputs": [],
   "source": []
  },
  {
   "cell_type": "code",
   "execution_count": null,
   "id": "4d19b9d7-0355-45d3-b26a-568a97094ce9",
   "metadata": {},
   "outputs": [],
   "source": []
  },
  {
   "cell_type": "code",
   "execution_count": null,
   "id": "e256a7e7-4848-4b61-9481-efb2184f7c7b",
   "metadata": {},
   "outputs": [],
   "source": []
  },
  {
   "cell_type": "code",
   "execution_count": null,
   "id": "3aa2c27f-2384-4d5f-9a85-63193816e62d",
   "metadata": {},
   "outputs": [],
   "source": []
  },
  {
   "cell_type": "code",
   "execution_count": null,
   "id": "6c00a63f-71ee-4c82-9189-86d429ee3f33",
   "metadata": {},
   "outputs": [],
   "source": []
  }
 ],
 "metadata": {
  "kernelspec": {
   "display_name": "Python 3 (ipykernel)",
   "language": "python",
   "name": "python3"
  },
  "language_info": {
   "codemirror_mode": {
    "name": "ipython",
    "version": 3
   },
   "file_extension": ".py",
   "mimetype": "text/x-python",
   "name": "python",
   "nbconvert_exporter": "python",
   "pygments_lexer": "ipython3",
   "version": "3.12.4"
  }
 },
 "nbformat": 4,
 "nbformat_minor": 5
}
