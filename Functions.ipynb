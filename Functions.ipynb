{
 "cells": [
  {
   "cell_type": "markdown",
   "id": "bafede4e-b0f7-4df2-8b95-2ff2a69e1ad9",
   "metadata": {},
   "source": [
    "# Functions "
   ]
  },
  {
   "cell_type": "code",
   "execution_count": 3,
   "id": "03a3623d-1bd4-4cb4-8507-88ddef6b135a",
   "metadata": {},
   "outputs": [],
   "source": [
    "def first_func():\n",
    "    print('I stay winning')"
   ]
  },
  {
   "cell_type": "code",
   "execution_count": 5,
   "id": "478662ae-3cf7-4958-92d4-875fd649fc6f",
   "metadata": {},
   "outputs": [
    {
     "name": "stdout",
     "output_type": "stream",
     "text": [
      "I stay winning\n"
     ]
    }
   ],
   "source": [
    "first_func()"
   ]
  },
  {
   "cell_type": "code",
   "execution_count": 7,
   "id": "e226a2f4-9b6b-429d-85a9-d0f2c9addba4",
   "metadata": {},
   "outputs": [],
   "source": [
    "def number_squared(number):\n",
    "    print(number**2)"
   ]
  },
  {
   "cell_type": "code",
   "execution_count": 13,
   "id": "f2a32b04-48db-4af3-a8ab-e35dec49c128",
   "metadata": {},
   "outputs": [
    {
     "name": "stdout",
     "output_type": "stream",
     "text": [
      "49\n"
     ]
    }
   ],
   "source": [
    " number_squared(7)"
   ]
  },
  {
   "cell_type": "code",
   "execution_count": 15,
   "id": "49fc3c5d-9538-46e8-b332-e31923177f95",
   "metadata": {},
   "outputs": [],
   "source": [
    "def number_squared_cust(number,power):\n",
    "    print(number**power)"
   ]
  },
  {
   "cell_type": "code",
   "execution_count": 22,
   "id": "dfc47d4e-e2f7-4848-b01a-922ff5312f30",
   "metadata": {},
   "outputs": [
    {
     "name": "stdout",
     "output_type": "stream",
     "text": [
      "49\n"
     ]
    }
   ],
   "source": [
    "number_squared_cust(7,2)"
   ]
  },
  {
   "cell_type": "code",
   "execution_count": null,
   "id": "55f69fa1-6a3c-4e85-b709-07300896fa5e",
   "metadata": {},
   "outputs": [],
   "source": []
  },
  {
   "cell_type": "code",
   "execution_count": 28,
   "id": "54a54040-035c-4eae-8a47-7e0a047913d5",
   "metadata": {},
   "outputs": [],
   "source": [
    "def number_args(*number):\n",
    "    print(number[0]*number[1])"
   ]
  },
  {
   "cell_type": "code",
   "execution_count": 30,
   "id": "3c08200d-eea6-4e66-8621-0f206f3a05e5",
   "metadata": {},
   "outputs": [
    {
     "name": "stdout",
     "output_type": "stream",
     "text": [
      "30\n"
     ]
    }
   ],
   "source": [
    "number_args(5,6,4,8,9)"
   ]
  },
  {
   "cell_type": "code",
   "execution_count": 32,
   "id": "9879c8a8-4360-46b6-b04c-de40548f3cad",
   "metadata": {},
   "outputs": [],
   "source": [
    "def number_args(*number):\n",
    "    print(number[0]*number[2])"
   ]
  },
  {
   "cell_type": "code",
   "execution_count": 34,
   "id": "df2097bb-177a-403f-9b3c-84262f466d17",
   "metadata": {},
   "outputs": [
    {
     "name": "stdout",
     "output_type": "stream",
     "text": [
      "20\n"
     ]
    }
   ],
   "source": [
    "number_args(5,6,4,8,9)"
   ]
  },
  {
   "cell_type": "code",
   "execution_count": 36,
   "id": "03b39188-943b-4522-9568-ccbc0b4969fc",
   "metadata": {},
   "outputs": [
    {
     "name": "stdout",
     "output_type": "stream",
     "text": [
      "20\n"
     ]
    }
   ],
   "source": [
    "args_tupple =number_args(5,6,4,8,9)\n",
    "\n",
    "def number_args(*number):\n",
    "    print(number[0]*number[2])"
   ]
  },
  {
   "cell_type": "code",
   "execution_count": null,
   "id": "58c85739-dc75-4f09-b111-5244eb3eaae0",
   "metadata": {},
   "outputs": [],
   "source": []
  },
  {
   "cell_type": "code",
   "execution_count": null,
   "id": "2203f411-e4c8-4ef4-8352-8eb7a28fcd47",
   "metadata": {},
   "outputs": [],
   "source": []
  },
  {
   "cell_type": "markdown",
   "id": "bbbd064e-a54e-4644-875d-71ee7dd390d3",
   "metadata": {},
   "source": [
    "# Keyword Arguement"
   ]
  },
  {
   "cell_type": "code",
   "execution_count": 40,
   "id": "af4b27cb-2c4f-429b-87aa-f67fde063898",
   "metadata": {},
   "outputs": [],
   "source": [
    "def number_squared_cust(number,power):\n",
    "    print(number**power)"
   ]
  },
  {
   "cell_type": "code",
   "execution_count": 44,
   "id": "6ab584bb-0057-4c57-8ab6-f00844457985",
   "metadata": {},
   "outputs": [
    {
     "name": "stdout",
     "output_type": "stream",
     "text": [
      "128\n"
     ]
    }
   ],
   "source": [
    "number_squared_cust(power = 7,number = 2)"
   ]
  },
  {
   "cell_type": "markdown",
   "id": "6a8b4dea-3eca-463e-b74a-2749f0db1800",
   "metadata": {},
   "source": [
    "# Arbituary Keyword Arguement"
   ]
  },
  {
   "cell_type": "code",
   "execution_count": 66,
   "id": "a54b621f-cf9a-4204-8ca5-b1fb3c1f9a54",
   "metadata": {},
   "outputs": [],
   "source": [
    "def number_kwarg(**number):\n",
    "    print('My digit is: '+ number['integer'])"
   ]
  },
  {
   "cell_type": "code",
   "execution_count": 68,
   "id": "c6711ec8-c06d-4da5-b7e1-89c385c7823e",
   "metadata": {},
   "outputs": [
    {
     "name": "stdout",
     "output_type": "stream",
     "text": [
      "My digit is: 2008\n"
     ]
    }
   ],
   "source": [
    "number_kwarg(integer = '2008')"
   ]
  },
  {
   "cell_type": "code",
   "execution_count": 70,
   "id": "d884a747-9542-447f-bf49-2b6ea8d33331",
   "metadata": {},
   "outputs": [],
   "source": [
    "def number_kwarg(**number):\n",
    "    print('My digit is: '+ number['integer'] + ' Alternative Digit: ' + number['integer2'])"
   ]
  },
  {
   "cell_type": "code",
   "execution_count": 72,
   "id": "a1cb45e3-5b3f-4b68-aac5-dcb85ad3e8ff",
   "metadata": {},
   "outputs": [
    {
     "name": "stdout",
     "output_type": "stream",
     "text": [
      "My digit is: 2008 Alternative Digit: 3105\n"
     ]
    }
   ],
   "source": [
    "number_kwarg(integer = '2008' , integer2 = '3105')"
   ]
  },
  {
   "cell_type": "code",
   "execution_count": null,
   "id": "0e15f5e9-209d-4f1c-9ba0-54ba2be67f59",
   "metadata": {},
   "outputs": [],
   "source": []
  }
 ],
 "metadata": {
  "kernelspec": {
   "display_name": "Python 3 (ipykernel)",
   "language": "python",
   "name": "python3"
  },
  "language_info": {
   "codemirror_mode": {
    "name": "ipython",
    "version": 3
   },
   "file_extension": ".py",
   "mimetype": "text/x-python",
   "name": "python",
   "nbconvert_exporter": "python",
   "pygments_lexer": "ipython3",
   "version": "3.12.4"
  }
 },
 "nbformat": 4,
 "nbformat_minor": 5
}
