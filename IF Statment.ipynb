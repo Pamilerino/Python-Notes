{
 "cells": [
  {
   "cell_type": "markdown",
   "id": "d9016450-858d-41b7-b143-e24da6f74506",
   "metadata": {},
   "source": [
    "# If - Elif - Else Statement "
   ]
  },
  {
   "cell_type": "code",
   "execution_count": 7,
   "id": "66605ba2-34fe-417e-ab3f-b49effd9df7b",
   "metadata": {},
   "outputs": [
    {
     "name": "stdout",
     "output_type": "stream",
     "text": [
      "Amazing!\n"
     ]
    }
   ],
   "source": [
    "if 25 > 10:\n",
    "    print('Amazing!')"
   ]
  },
  {
   "cell_type": "code",
   "execution_count": 13,
   "id": "d3e601f4-79eb-4662-a011-dcb3fd4ba9e4",
   "metadata": {},
   "outputs": [
    {
     "name": "stdout",
     "output_type": "stream",
     "text": [
      "Remarkable...\n"
     ]
    }
   ],
   "source": [
    "if 25 < 10:\n",
    "    print('Amazing!')\n",
    "else:\n",
    "    print('Remarkable...')"
   ]
  },
  {
   "cell_type": "code",
   "execution_count": 15,
   "id": "9c94f0cf-e995-4fe2-bcbb-30d2cd5f7af6",
   "metadata": {},
   "outputs": [
    {
     "name": "stdout",
     "output_type": "stream",
     "text": [
      "Amazing!\n"
     ]
    }
   ],
   "source": [
    "if 25 > 10:\n",
    "    print('Amazing!')\n",
    "else:\n",
    "    print('Remarkable...')"
   ]
  },
  {
   "cell_type": "code",
   "execution_count": 17,
   "id": "fdea13eb-e900-4898-95da-b700f66a23dd",
   "metadata": {},
   "outputs": [
    {
     "name": "stdout",
     "output_type": "stream",
     "text": [
      "elif Amazing!!!\n"
     ]
    }
   ],
   "source": [
    "if 25 < 10:\n",
    "    print('Amazing!')\n",
    "elif 25 < 30:\n",
    "    print('elif Amazing!!!')\n",
    "else:\n",
    "    print('Remarkable...')"
   ]
  },
  {
   "cell_type": "code",
   "execution_count": 19,
   "id": "e24620ed-1bce-4c86-96d9-4131d18381ea",
   "metadata": {},
   "outputs": [
    {
     "name": "stdout",
     "output_type": "stream",
     "text": [
      "elif Amazing!!!\n"
     ]
    }
   ],
   "source": [
    "if 25 < 10:\n",
    "    print('Amazing!')\n",
    "elif 25 < 30:\n",
    "    print('elif Amazing!!!')\n",
    "elif 25 < 21:\n",
    "    print('elif 3 Amazing!!!')\n",
    "elif 25 < 40:\n",
    "    print('elif 4 Amazing!!!')\n",
    "elif 25 < 50:\n",
    "    print('elif 5 Amazing!!!')\n",
    "else:\n",
    "    print('Remarkable...')"
   ]
  },
  {
   "cell_type": "code",
   "execution_count": 21,
   "id": "ab817ff7-7be9-437c-8341-b453905bc19c",
   "metadata": {},
   "outputs": [
    {
     "name": "stdout",
     "output_type": "stream",
     "text": [
      "elif 4 Amazing!!!\n"
     ]
    }
   ],
   "source": [
    "if 25 < 10:\n",
    "    print('Amazing!')\n",
    "elif 25 < 20:\n",
    "    print('elif Amazing!!!')\n",
    "elif 25 < 21:\n",
    "    print('elif 3 Amazing!!!')\n",
    "elif 25 < 40:\n",
    "    print('elif 4 Amazing!!!')\n",
    "elif 25 < 50:\n",
    "    print('elif 5 Amazing!!!')\n",
    "else:\n",
    "    print('Remarkable...')"
   ]
  },
  {
   "cell_type": "code",
   "execution_count": 23,
   "id": "9d0abb8a-764c-4185-a4fe-254d365a45cc",
   "metadata": {},
   "outputs": [
    {
     "name": "stdout",
     "output_type": "stream",
     "text": [
      "Amazing!\n"
     ]
    }
   ],
   "source": [
    "if (25 < 10) or (1 < 3):\n",
    "    print('Amazing!')\n",
    "elif 25 < 20:\n",
    "    print('elif Amazing!!!')\n",
    "elif 25 < 21:\n",
    "    print('elif 3 Amazing!!!')\n",
    "elif 25 < 40:\n",
    "    print('elif 4 Amazing!!!')\n",
    "elif 25 < 50:\n",
    "    print('elif 5 Amazing!!!')\n",
    "else:\n",
    "    print('Remarkable...')"
   ]
  },
  {
   "cell_type": "code",
   "execution_count": 33,
   "id": "868ff018-2c46-4c38-bbdf-8921c81212f8",
   "metadata": {},
   "outputs": [
    {
     "name": "stdout",
     "output_type": "stream",
     "text": [
      "Amazing!\n",
      "The nested statement Imperial!!!\n"
     ]
    }
   ],
   "source": [
    "if (25 < 10) or (1 < 3):\n",
    "    print('Amazing!')\n",
    "    if 10 > 5:\n",
    "        print('The nested statement Imperial!!!')\n",
    "elif 25 < 20:\n",
    "    print('elif Amazing!!!')\n",
    "elif 25 < 21:\n",
    "    print('elif 3 Amazing!!!')\n",
    "elif 25 < 40:\n",
    "    print('elif 4 Amazing!!!')\n",
    "elif 25 < 50:\n",
    "    print('elif 5 Amazing!!!')\n",
    "else:\n",
    "    print('Remarkable...')"
   ]
  },
  {
   "cell_type": "code",
   "execution_count": null,
   "id": "0bf3a1e3-3eb8-4185-9748-b56f031051fd",
   "metadata": {},
   "outputs": [],
   "source": []
  },
  {
   "cell_type": "code",
   "execution_count": 27,
   "id": "d9aaa678-9d58-43bd-a422-9de6b4ed68db",
   "metadata": {},
   "outputs": [
    {
     "name": "stdout",
     "output_type": "stream",
     "text": [
      "Phenomenal...\n"
     ]
    }
   ],
   "source": [
    "print('Impeccable') if 10>30 else print ('Phenomenal...')"
   ]
  },
  {
   "cell_type": "code",
   "execution_count": null,
   "id": "e7708f13-e006-47c4-b11e-9f91b4b6090f",
   "metadata": {},
   "outputs": [],
   "source": []
  },
  {
   "cell_type": "code",
   "execution_count": null,
   "id": "78ef261e-429d-465d-89ac-0e5f12cadcf9",
   "metadata": {},
   "outputs": [],
   "source": []
  },
  {
   "cell_type": "code",
   "execution_count": null,
   "id": "ee57ec39-5c28-49ae-ba30-6f9526c1023a",
   "metadata": {},
   "outputs": [],
   "source": []
  },
  {
   "cell_type": "code",
   "execution_count": null,
   "id": "9a562fab-0611-4211-aee5-862b9b4c7563",
   "metadata": {},
   "outputs": [],
   "source": []
  },
  {
   "cell_type": "code",
   "execution_count": null,
   "id": "f20e6a52-4b68-46e6-bbfc-2008d6f30351",
   "metadata": {},
   "outputs": [],
   "source": []
  },
  {
   "cell_type": "code",
   "execution_count": null,
   "id": "4a8d7463-1837-445a-b8c8-557f6a592b90",
   "metadata": {},
   "outputs": [],
   "source": []
  }
 ],
 "metadata": {
  "kernelspec": {
   "display_name": "Python 3 (ipykernel)",
   "language": "python",
   "name": "python3"
  },
  "language_info": {
   "codemirror_mode": {
    "name": "ipython",
    "version": 3
   },
   "file_extension": ".py",
   "mimetype": "text/x-python",
   "name": "python",
   "nbconvert_exporter": "python",
   "pygments_lexer": "ipython3",
   "version": "3.12.4"
  }
 },
 "nbformat": 4,
 "nbformat_minor": 5
}
